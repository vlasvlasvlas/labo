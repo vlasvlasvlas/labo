{
 "cells": [
  {
   "cell_type": "markdown",
   "id": "b69f45ee-00b5-4494-9c2d-d7a12cf5f32b",
   "metadata": {},
   "source": [
    "<H1>Comparacion de modelos predictivos similares </H1>"
   ]
  },
  {
   "cell_type": "markdown",
   "id": "1fb2a151-a024-4147-a1eb-a26c1cfcefaf",
   "metadata": {},
   "source": [
    "Este Jupyter Notebook demora varias horas en correr\n",
    "se sugiere solo entender el codigo e interpretar los resultados que genera\n",
    "los resultados quedan en el repositorio GitHub  /exp/ST1005"
   ]
  },
  {
   "cell_type": "code",
   "execution_count": 1,
   "id": "281984b2-05ee-42d9-afd6-01ef14e586c7",
   "metadata": {},
   "outputs": [
    {
     "data": {
      "text/html": [
       "<table class=\"dataframe\">\n",
       "<caption>A matrix: 2 × 6 of type dbl</caption>\n",
       "<thead>\n",
       "\t<tr><th></th><th scope=col>used</th><th scope=col>(Mb)</th><th scope=col>gc trigger</th><th scope=col>(Mb)</th><th scope=col>max used</th><th scope=col>(Mb)</th></tr>\n",
       "</thead>\n",
       "<tbody>\n",
       "\t<tr><th scope=row>Ncells</th><td> 605971</td><td>32.4</td><td>1317690</td><td>70.4</td><td>1016737</td><td>54.3</td></tr>\n",
       "\t<tr><th scope=row>Vcells</th><td>1132621</td><td> 8.7</td><td>8388608</td><td>64.0</td><td>1819928</td><td>13.9</td></tr>\n",
       "</tbody>\n",
       "</table>\n"
      ],
      "text/latex": [
       "A matrix: 2 × 6 of type dbl\n",
       "\\begin{tabular}{r|llllll}\n",
       "  & used & (Mb) & gc trigger & (Mb) & max used & (Mb)\\\\\n",
       "\\hline\n",
       "\tNcells &  605971 & 32.4 & 1317690 & 70.4 & 1016737 & 54.3\\\\\n",
       "\tVcells & 1132621 &  8.7 & 8388608 & 64.0 & 1819928 & 13.9\\\\\n",
       "\\end{tabular}\n"
      ],
      "text/markdown": [
       "\n",
       "A matrix: 2 × 6 of type dbl\n",
       "\n",
       "| <!--/--> | used | (Mb) | gc trigger | (Mb) | max used | (Mb) |\n",
       "|---|---|---|---|---|---|---|\n",
       "| Ncells |  605971 | 32.4 | 1317690 | 70.4 | 1016737 | 54.3 |\n",
       "| Vcells | 1132621 |  8.7 | 8388608 | 64.0 | 1819928 | 13.9 |\n",
       "\n"
      ],
      "text/plain": [
       "       used    (Mb) gc trigger (Mb) max used (Mb)\n",
       "Ncells  605971 32.4 1317690    70.4 1016737  54.3\n",
       "Vcells 1132621  8.7 8388608    64.0 1819928  13.9"
      ]
     },
     "metadata": {},
     "output_type": "display_data"
    }
   ],
   "source": [
    "rm( list=ls() )  #Borro todos los objetos\n",
    "gc()   #Garbage Collection"
   ]
  },
  {
   "cell_type": "markdown",
   "id": "284df3cf-eb6c-4098-aee4-d2adec56ac14",
   "metadata": {},
   "source": [
    "<H2> Carga de librerias </H2>"
   ]
  },
  {
   "cell_type": "code",
   "execution_count": 2,
   "id": "e7f8eeda-b34b-417c-af4a-a6e0238106ae",
   "metadata": {},
   "outputs": [
    {
     "name": "stderr",
     "output_type": "stream",
     "text": [
      "Loading required package: data.table\n",
      "\n",
      "Loading required package: rpart\n",
      "\n",
      "Loading required package: parallel\n",
      "\n",
      "Loading required package: primes\n",
      "\n",
      "Loading required package: ggplot2\n",
      "\n"
     ]
    }
   ],
   "source": [
    "require(\"data.table\")\n",
    "require(\"rpart\")\n",
    "require(\"parallel\")\n",
    "\n",
    "require(\"primes\")      #para obtener numeros primos que seran semillas\n",
    "require(\"ggplot2\")     #para grafiucar las densidades"
   ]
  },
  {
   "cell_type": "markdown",
   "id": "214875bf-beac-4a93-9dc7-5f6109b8f671",
   "metadata": {},
   "source": [
    "<H2> Definicion de Funciones </H2>"
   ]
  },
  {
   "cell_type": "code",
   "execution_count": 3,
   "id": "beed9165-11b2-4e0c-bc2e-62d51e94a374",
   "metadata": {},
   "outputs": [],
   "source": [
    "#particionar agrega una columna llamada fold a un dataset que consiste en una particion estratificada segun agrupa\n",
    "# particionar( data=dataset, division=c(70,30), agrupa=clase_ternaria, seed=semilla)   crea una particion 70, 30 \n",
    "\n",
    "particionar  <- function( data,  division, agrupa=\"\",  campo=\"fold\", start=1, seed=NA )\n",
    "{\n",
    "  if( !is.na(seed) )   set.seed( seed )\n",
    "\n",
    "  bloque  <- unlist( mapply(  function(x,y) { rep( y, x )} ,   division,  seq( from=start, length.out=length(division) )  ) )  \n",
    "\n",
    "  data[ , (campo) :=  sample( rep( bloque, ceiling(.N/length(bloque))) )[1:.N],\n",
    "          by= agrupa ]\n",
    "}"
   ]
  },
  {
   "cell_type": "code",
   "execution_count": 4,
   "id": "8d6dd3d5-5721-4259-a835-bb7b69f38359",
   "metadata": {},
   "outputs": [],
   "source": [
    "\n",
    "ArbolEstimarGanancia  <- function( semilla, param_basicos )\n",
    "{\n",
    "  #particiono estratificadamente el dataset\n",
    "  particionar( dataset, division=c(70,30), agrupa=\"clase_ternaria\", seed= semilla )  #Cambiar por la primer semilla de cada uno !\n",
    "\n",
    "  #genero el modelo\n",
    "  modelo  <- rpart(\"clase_ternaria ~ .\",     #quiero predecir clase_ternaria a partir del resto\n",
    "                   data= dataset[ fold==1],  #fold==1  es training,  el 70% de los datos\n",
    "                   xval= 0,\n",
    "                   control= param_basicos )  #aqui van los parametros del arbol\n",
    "\n",
    "  #aplico el modelo a los datos de testing\n",
    "  prediccion  <- predict( modelo,   #el modelo que genere recien\n",
    "                          dataset[ fold==2],  #fold==2  es testing, el 30% de los datos\n",
    "                          type= \"prob\") #type= \"prob\"  es que devuelva la probabilidad\n",
    "\n",
    "  #prediccion es una matriz con TRES columnas, llamadas \"BAJA+1\", \"BAJA+2\"  y \"CONTINUA\"\n",
    "  #cada columna es el vector de probabilidades \n",
    "\n",
    "\n",
    "  #calculo la ganancia en testing  qu es fold==2\n",
    "  ganancia_test  <- dataset[ fold==2, \n",
    "                             sum( ifelse( prediccion[, \"BAJA+2\"]  >  1/60,\n",
    "                                         ifelse( clase_ternaria==\"BAJA+2\", 59000, -1000 ),\n",
    "                                         0 ) )]\n",
    "\n",
    "  #escalo la ganancia como si fuera todo el dataset\n",
    "  ganancia_test_normalizada  <-  ganancia_test / 0.3\n",
    "\n",
    "  return( ganancia_test_normalizada )\n",
    "}"
   ]
  },
  {
   "cell_type": "code",
   "execution_count": 5,
   "id": "2a31bb65-d516-47de-bc2e-901ce6e6153a",
   "metadata": {},
   "outputs": [],
   "source": [
    "\n",
    "ArbolesMontecarlo  <- function( semillas,  param_basicos )\n",
    "{\n",
    "  ganancias  <- mcmapply( ArbolEstimarGanancia, \n",
    "                          semillas,   #paso el vector de semillas, que debe ser el primer parametro de la funcion ArbolEstimarGanancia\n",
    "                          MoreArgs= list( param_basicos),  #aqui paso el segundo parametro\n",
    "                          SIMPLIFY= FALSE,\n",
    "                          mc.cores= 16 )  #se puede subir a 5 si posee Linux o Mac OS\n",
    "\n",
    "  #media de las ganancias\n",
    "  return(  unlist(ganancias) )\n",
    "}"
   ]
  },
  {
   "cell_type": "markdown",
   "id": "11723648-e82a-4f07-b9e3-f386eeed30e1",
   "metadata": {},
   "source": [
    "<H2>Aqui comienza el programa<H2>"
   ]
  },
  {
   "cell_type": "markdown",
   "id": "a64545ef-f2aa-4058-89de-74f707c5a3be",
   "metadata": {},
   "source": [
    "Establezco el working directory"
   ]
  },
  {
   "cell_type": "code",
   "execution_count": 6,
   "id": "880feddb-77b7-4884-95a1-3c6a417804cd",
   "metadata": {},
   "outputs": [],
   "source": [
    "setwd(\"/media/Shared/gustavo/b1/\")"
   ]
  },
  {
   "cell_type": "markdown",
   "id": "fe55b96b-5252-4f87-99b6-2b7d39bad335",
   "metadata": {},
   "source": [
    "Cargo el dataset"
   ]
  },
  {
   "cell_type": "code",
   "execution_count": 7,
   "id": "0acdd0ae-7226-4004-a9d6-e929d5af4101",
   "metadata": {},
   "outputs": [],
   "source": [
    "dataset  <- fread(\"./datasets/paquete_premium_202011.csv\")"
   ]
  },
  {
   "cell_type": "markdown",
   "id": "db099125-3a4c-42c0-a115-8478d40a487e",
   "metadata": {},
   "source": [
    "Defino los modelos que quiero comparar"
   ]
  },
  {
   "cell_type": "code",
   "execution_count": 8,
   "id": "60d2125d-2651-4667-aff3-2ebf6c217281",
   "metadata": {},
   "outputs": [],
   "source": [
    "paramA  <- list( \"cp\"=         -1,  #complejidad minima\n",
    "                 \"minsplit\"=  300,  #minima cantidad de registros en un nodo para hacer el split\n",
    "                 \"minbucket\"= 150,  #minima cantidad de registros en una hoja\n",
    "                 \"maxdepth\"=    6 ) #profundidad máxima del arbol"
   ]
  },
  {
   "cell_type": "code",
   "execution_count": 9,
   "id": "c0bfd078-8442-479a-8919-9074b05913c8",
   "metadata": {},
   "outputs": [],
   "source": [
    "paramB  <- list( \"cp\"=          0,  #complejidad minima\n",
    "                 \"minsplit\"=   15,  #minima cantidad de registros en un nodo para hacer el split\n",
    "                 \"minbucket\"=   5,  #minima cantidad de registros en una hoja\n",
    "                 \"maxdepth\"=   10 ) #profundidad máxima del arbol"
   ]
  },
  {
   "cell_type": "code",
   "execution_count": 10,
   "id": "c8f57368-870a-4ede-80f7-019ec22949a7",
   "metadata": {},
   "outputs": [],
   "source": [
    "paramC  <- list( \"cp\"=         -1,  #complejidad minima\n",
    "                 \"minsplit\"=   50,  #minima cantidad de registros en un nodo para hacer el split\n",
    "                 \"minbucket\"=  16,  #minima cantidad de registros en una hoja\n",
    "                 \"maxdepth\"=    6 ) #profundidad máxima del arbol"
   ]
  },
  {
   "cell_type": "markdown",
   "id": "66cdc9ec-3d4d-4c2c-b1e2-ed86b3c6ecff",
   "metadata": {},
   "source": [
    "creo un vector con 1000 numeros primos tomados al azar del intervalo [ 100k, 1M ]"
   ]
  },
  {
   "cell_type": "code",
   "execution_count": 11,
   "id": "06fa239d-90f9-471f-a8a6-28d3c9a96249",
   "metadata": {},
   "outputs": [],
   "source": [
    "kcantidad_semillas <- 1000   #cantidad de semillas con las que voy a trabajar\n",
    "set.seed( 19 )               #seteo inicial para replicabilidad"
   ]
  },
  {
   "cell_type": "code",
   "execution_count": 12,
   "id": "32cb190b-b018-4794-b096-259ca3672575",
   "metadata": {},
   "outputs": [],
   "source": [
    "primos  <- generate_primes(min=100000, max=1000000)   #genero TODOS los numeros primos entre 100k y 1M\n",
    "vsemillas  <- sample(primos)[ 1:kcantidad_semillas ]  #me quedo con kcantidad_semillas primos al azar"
   ]
  },
  {
   "cell_type": "markdown",
   "id": "2c31e63e-cf65-481d-a93a-ac21bcb12219",
   "metadata": {},
   "source": [
    "<H2> Ejecucion de los modelos y calculo de las ganancias </H2>"
   ]
  },
  {
   "cell_type": "markdown",
   "id": "f4acea7f-1593-4ab4-948a-9d9778328b58",
   "metadata": {},
   "source": [
    "Calculo las ganancias para cada modelo  utilizando las 1000 semillas\n",
    "Esta parte es la que demora horas en correr"
   ]
  },
  {
   "cell_type": "code",
   "execution_count": 13,
   "id": "cb6b91ef-d3c9-41aa-8272-64efb9220331",
   "metadata": {},
   "outputs": [],
   "source": [
    "ganA  <- ArbolesMontecarlo( vsemillas, paramA )\n",
    "ganB  <- ArbolesMontecarlo( vsemillas, paramB )\n",
    "ganC  <- ArbolesMontecarlo( vsemillas, paramC )"
   ]
  },
  {
   "cell_type": "markdown",
   "id": "e596a350-1ea8-4a79-b782-fafd49429a15",
   "metadata": {},
   "source": [
    "<H2>Analisis de resultados</H2>"
   ]
  },
  {
   "cell_type": "markdown",
   "id": "a3cd9260-479e-42e2-ac9b-9e593a6faa4f",
   "metadata": {},
   "source": [
    "<H3> Probabilidad que un modelo sea mejor que el otro</H3>"
   ]
  },
  {
   "cell_type": "markdown",
   "id": "b723f118-8fb9-427c-9f4d-4e913d0009ed",
   "metadata": {},
   "source": [
    "<H4>modelo A  versus  modelo B</H4>"
   ]
  },
  {
   "cell_type": "code",
   "execution_count": 14,
   "id": "8d7e0c18-e888-489f-85c4-d49dc999a1f3",
   "metadata": {},
   "outputs": [
    {
     "data": {
      "text/html": [
       "0.694"
      ],
      "text/latex": [
       "0.694"
      ],
      "text/markdown": [
       "0.694"
      ],
      "text/plain": [
       "[1] 0.694"
      ]
     },
     "metadata": {},
     "output_type": "display_data"
    }
   ],
   "source": [
    "sum( ganA > ganB ) / length(ganA)"
   ]
  },
  {
   "cell_type": "markdown",
   "id": "3fce98f7-d442-4e63-8ea0-a28ab01b16fd",
   "metadata": {},
   "source": [
    "resultado:  el 69.4% de las veces  el modelo A performa mejor que el modelo B"
   ]
  },
  {
   "cell_type": "markdown",
   "id": "7eda5750-49bb-4fe6-8df4-10489baba22c",
   "metadata": {},
   "source": [
    "<H4>modelo  A versus  modelo B</H4>"
   ]
  },
  {
   "cell_type": "code",
   "execution_count": 15,
   "id": "15e6fc58-efce-4a87-9617-30d0a72772e0",
   "metadata": {},
   "outputs": [
    {
     "data": {
      "text/html": [
       "0.515"
      ],
      "text/latex": [
       "0.515"
      ],
      "text/markdown": [
       "0.515"
      ],
      "text/plain": [
       "[1] 0.515"
      ]
     },
     "metadata": {},
     "output_type": "display_data"
    }
   ],
   "source": [
    "sum( ganA > ganC ) / length(ganA)"
   ]
  },
  {
   "cell_type": "markdown",
   "id": "bba322e9-6e8b-471f-9d53-c1543ae508f9",
   "metadata": {},
   "source": [
    "resultado: el 51.5% de las veces  el modelo A performa mejor que el modelo C\n",
    " es decir A y C performan practicamente igual"
   ]
  },
  {
   "cell_type": "markdown",
   "id": "c4f8b02f-0f5f-4b96-b1b9-0db4b91f0d37",
   "metadata": {},
   "source": [
    "<H4>modelo C vs modelo B</H4>"
   ]
  },
  {
   "cell_type": "code",
   "execution_count": 16,
   "id": "b0c0ee7a-9498-4f86-bea3-74d15f44f6d5",
   "metadata": {},
   "outputs": [
    {
     "data": {
      "text/html": [
       "0.716"
      ],
      "text/latex": [
       "0.716"
      ],
      "text/markdown": [
       "0.716"
      ],
      "text/plain": [
       "[1] 0.716"
      ]
     },
     "metadata": {},
     "output_type": "display_data"
    }
   ],
   "source": [
    "sum( ganC > ganB ) / length(ganA)"
   ]
  },
  {
   "cell_type": "markdown",
   "id": "ccba72ca-4ac2-4443-9a2b-a5e2ffb17b62",
   "metadata": {},
   "source": [
    "el 71.6% de las veces  el modelo C performa mejor que el modelo B"
   ]
  },
  {
   "cell_type": "markdown",
   "id": "849d5d17-8397-4910-b554-a3b3da9de1ef",
   "metadata": {},
   "source": [
    "<H3> media de diferencias</H3>"
   ]
  },
  {
   "cell_type": "code",
   "execution_count": 17,
   "id": "2d643a2d-aff1-4664-bccd-ef845a871960",
   "metadata": {},
   "outputs": [
    {
     "data": {
      "text/html": [
       "758183.333333333"
      ],
      "text/latex": [
       "758183.333333333"
      ],
      "text/markdown": [
       "758183.333333333"
      ],
      "text/plain": [
       "[1] 758183.3"
      ]
     },
     "metadata": {},
     "output_type": "display_data"
    }
   ],
   "source": [
    "mean( ganA - ganB )"
   ]
  },
  {
   "cell_type": "markdown",
   "id": "e7ee0982-82b3-4df8-9460-1122ecd25aa0",
   "metadata": {},
   "source": [
    "sin dudas  el modelo A es superior a B"
   ]
  },
  {
   "cell_type": "code",
   "execution_count": 18,
   "id": "1dbc21d3-28c9-429e-ac72-ccc3a987f439",
   "metadata": {},
   "outputs": [
    {
     "data": {
      "text/html": [
       "2743.33333333334"
      ],
      "text/latex": [
       "2743.33333333334"
      ],
      "text/markdown": [
       "2743.33333333334"
      ],
      "text/plain": [
       "[1] 2743.333"
      ]
     },
     "metadata": {},
     "output_type": "display_data"
    }
   ],
   "source": [
    "mean( ganA - ganC )"
   ]
  },
  {
   "cell_type": "markdown",
   "id": "7b0cab87-2214-49c7-ab32-fac95c701511",
   "metadata": {},
   "source": [
    "diferencia insignificante\n",
    "se puede decir que A y C performan igual"
   ]
  },
  {
   "cell_type": "code",
   "execution_count": 19,
   "id": "3c896edd-ac5b-45c5-ad43-ea23af079ecf",
   "metadata": {},
   "outputs": [
    {
     "data": {
      "text/html": [
       "755440"
      ],
      "text/latex": [
       "755440"
      ],
      "text/markdown": [
       "755440"
      ],
      "text/plain": [
       "[1] 755440"
      ]
     },
     "metadata": {},
     "output_type": "display_data"
    }
   ],
   "source": [
    "mean( ganC - ganB )"
   ]
  },
  {
   "cell_type": "markdown",
   "id": "acc35bc4-e562-4698-bb37-0015ce4cb14f",
   "metadata": {},
   "source": [
    "in dudas  el modelo C es superior a B"
   ]
  },
  {
   "cell_type": "markdown",
   "id": "6f681ef0-dee6-4ee3-9846-a97469af36ae",
   "metadata": {},
   "source": [
    "<H3> Test de Wilcoxon</H3>"
   ]
  },
  {
   "cell_type": "markdown",
   "id": "2b3cdeaa-3ad7-432b-973f-694ea8643508",
   "metadata": {},
   "source": [
    "<H4>modelo A vs modelo B</H4>"
   ]
  },
  {
   "cell_type": "code",
   "execution_count": 20,
   "id": "a74a8a50-c197-4bc3-9ce5-930f5e6f2586",
   "metadata": {},
   "outputs": [
    {
     "data": {
      "text/plain": [
       "\n",
       "\tWilcoxon rank sum test with continuity correction\n",
       "\n",
       "data:  ganA and ganB\n",
       "W = 638804, p-value < 2.2e-16\n",
       "alternative hypothesis: true location shift is not equal to 0\n"
      ]
     },
     "metadata": {},
     "output_type": "display_data"
    }
   ],
   "source": [
    "wilcox.test( ganA, ganB ) "
   ]
  },
  {
   "cell_type": "markdown",
   "id": "86937862-45e2-4dc8-a45e-36fdc8814201",
   "metadata": {},
   "source": [
    "Conclusiones: \n",
    "* como p-value <  0.05    ganA es distinto a ganB\n",
    "* y como además  mean(ganA) > mean(ganB)  entonces podemos afirmar que  A es mejor que B"
   ]
  },
  {
   "cell_type": "markdown",
   "id": "88a3141b-7167-485f-ac27-4466b9683dd6",
   "metadata": {},
   "source": [
    "<H4>modelo A vs modelo C</H4>"
   ]
  },
  {
   "cell_type": "code",
   "execution_count": 21,
   "id": "ad6ccdd0-d538-4593-a699-e8855f8a994b",
   "metadata": {},
   "outputs": [
    {
     "data": {
      "text/plain": [
       "\n",
       "\tWilcoxon rank sum test with continuity correction\n",
       "\n",
       "data:  ganA and ganC\n",
       "W = 498159, p-value = 0.8867\n",
       "alternative hypothesis: true location shift is not equal to 0\n"
      ]
     },
     "metadata": {},
     "output_type": "display_data"
    }
   ],
   "source": [
    "wilcox.test( ganA, ganC ) "
   ]
  },
  {
   "cell_type": "markdown",
   "id": "5942e03a-d848-4fa1-b6e5-6cfcb2d1c72d",
   "metadata": {},
   "source": [
    "Conclusión: como p-value >> 0.05    ganA es no es distinto que ganC"
   ]
  },
  {
   "cell_type": "markdown",
   "id": "c964c96b-2055-4f86-9d2e-db875ae96177",
   "metadata": {},
   "source": [
    "<H4> ¿Cuantas corridas hacen falta para saber que  A es mejor que B ?</H4>"
   ]
  },
  {
   "cell_type": "code",
   "execution_count": 23,
   "id": "2812769b-7371-40a7-b6bf-9551f9363637",
   "metadata": {},
   "outputs": [
    {
     "name": "stderr",
     "output_type": "stream",
     "text": [
      "Warning message in wilcox.test.default(ganA[1:hasta], ganB[1:hasta]):\n",
      "“cannot compute exact p-value with ties”\n"
     ]
    },
    {
     "name": "stdout",
     "output_type": "stream",
     "text": [
      "5 \t 0.3457418 \n"
     ]
    },
    {
     "name": "stderr",
     "output_type": "stream",
     "text": [
      "Warning message in wilcox.test.default(ganA[1:hasta], ganB[1:hasta]):\n",
      "“cannot compute exact p-value with ties”\n"
     ]
    },
    {
     "name": "stdout",
     "output_type": "stream",
     "text": [
      "6 \t 0.4225274 \n"
     ]
    },
    {
     "name": "stderr",
     "output_type": "stream",
     "text": [
      "Warning message in wilcox.test.default(ganA[1:hasta], ganB[1:hasta]):\n",
      "“cannot compute exact p-value with ties”\n"
     ]
    },
    {
     "name": "stdout",
     "output_type": "stream",
     "text": [
      "7 \t 0.2769106 \n"
     ]
    },
    {
     "name": "stderr",
     "output_type": "stream",
     "text": [
      "Warning message in wilcox.test.default(ganA[1:hasta], ganB[1:hasta]):\n",
      "“cannot compute exact p-value with ties”\n"
     ]
    },
    {
     "name": "stdout",
     "output_type": "stream",
     "text": [
      "8 \t 0.1411894 \n"
     ]
    },
    {
     "name": "stderr",
     "output_type": "stream",
     "text": [
      "Warning message in wilcox.test.default(ganA[1:hasta], ganB[1:hasta]):\n",
      "“cannot compute exact p-value with ties”\n"
     ]
    },
    {
     "name": "stdout",
     "output_type": "stream",
     "text": [
      "9 \t 0.1449128 \n"
     ]
    },
    {
     "name": "stderr",
     "output_type": "stream",
     "text": [
      "Warning message in wilcox.test.default(ganA[1:hasta], ganB[1:hasta]):\n",
      "“cannot compute exact p-value with ties”\n"
     ]
    },
    {
     "name": "stdout",
     "output_type": "stream",
     "text": [
      "10 \t 0.1122755 \n"
     ]
    },
    {
     "name": "stderr",
     "output_type": "stream",
     "text": [
      "Warning message in wilcox.test.default(ganA[1:hasta], ganB[1:hasta]):\n",
      "“cannot compute exact p-value with ties”\n"
     ]
    },
    {
     "name": "stdout",
     "output_type": "stream",
     "text": [
      "11 \t 0.06120918 \n"
     ]
    },
    {
     "name": "stderr",
     "output_type": "stream",
     "text": [
      "Warning message in wilcox.test.default(ganA[1:hasta], ganB[1:hasta]):\n",
      "“cannot compute exact p-value with ties”\n"
     ]
    },
    {
     "name": "stdout",
     "output_type": "stream",
     "text": [
      "12 \t 0.04959765 \n"
     ]
    },
    {
     "name": "stderr",
     "output_type": "stream",
     "text": [
      "Warning message in wilcox.test.default(ganA[1:hasta], ganB[1:hasta]):\n",
      "“cannot compute exact p-value with ties”\n"
     ]
    },
    {
     "name": "stdout",
     "output_type": "stream",
     "text": [
      "13 \t 0.03777589 \n"
     ]
    },
    {
     "name": "stderr",
     "output_type": "stream",
     "text": [
      "Warning message in wilcox.test.default(ganA[1:hasta], ganB[1:hasta]):\n",
      "“cannot compute exact p-value with ties”\n"
     ]
    },
    {
     "name": "stdout",
     "output_type": "stream",
     "text": [
      "14 \t 0.06603902 \n"
     ]
    },
    {
     "name": "stderr",
     "output_type": "stream",
     "text": [
      "Warning message in wilcox.test.default(ganA[1:hasta], ganB[1:hasta]):\n",
      "“cannot compute exact p-value with ties”\n"
     ]
    },
    {
     "name": "stdout",
     "output_type": "stream",
     "text": [
      "15 \t 0.05909821 \n"
     ]
    },
    {
     "name": "stderr",
     "output_type": "stream",
     "text": [
      "Warning message in wilcox.test.default(ganA[1:hasta], ganB[1:hasta]):\n",
      "“cannot compute exact p-value with ties”\n"
     ]
    },
    {
     "name": "stdout",
     "output_type": "stream",
     "text": [
      "16 \t 0.0898562 \n"
     ]
    },
    {
     "name": "stderr",
     "output_type": "stream",
     "text": [
      "Warning message in wilcox.test.default(ganA[1:hasta], ganB[1:hasta]):\n",
      "“cannot compute exact p-value with ties”\n"
     ]
    },
    {
     "name": "stdout",
     "output_type": "stream",
     "text": [
      "17 \t 0.05590672 \n"
     ]
    },
    {
     "name": "stderr",
     "output_type": "stream",
     "text": [
      "Warning message in wilcox.test.default(ganA[1:hasta], ganB[1:hasta]):\n",
      "“cannot compute exact p-value with ties”\n"
     ]
    },
    {
     "name": "stdout",
     "output_type": "stream",
     "text": [
      "18 \t 0.08181777 \n"
     ]
    },
    {
     "name": "stderr",
     "output_type": "stream",
     "text": [
      "Warning message in wilcox.test.default(ganA[1:hasta], ganB[1:hasta]):\n",
      "“cannot compute exact p-value with ties”\n"
     ]
    },
    {
     "name": "stdout",
     "output_type": "stream",
     "text": [
      "19 \t 0.03955729 \n"
     ]
    },
    {
     "name": "stderr",
     "output_type": "stream",
     "text": [
      "Warning message in wilcox.test.default(ganA[1:hasta], ganB[1:hasta]):\n",
      "“cannot compute exact p-value with ties”\n"
     ]
    },
    {
     "name": "stdout",
     "output_type": "stream",
     "text": [
      "20 \t 0.0547763 \n"
     ]
    },
    {
     "name": "stderr",
     "output_type": "stream",
     "text": [
      "Warning message in wilcox.test.default(ganA[1:hasta], ganB[1:hasta]):\n",
      "“cannot compute exact p-value with ties”\n"
     ]
    },
    {
     "name": "stdout",
     "output_type": "stream",
     "text": [
      "21 \t 0.06090582 \n"
     ]
    },
    {
     "name": "stderr",
     "output_type": "stream",
     "text": [
      "Warning message in wilcox.test.default(ganA[1:hasta], ganB[1:hasta]):\n",
      "“cannot compute exact p-value with ties”\n"
     ]
    },
    {
     "name": "stdout",
     "output_type": "stream",
     "text": [
      "22 \t 0.07832154 \n"
     ]
    },
    {
     "name": "stderr",
     "output_type": "stream",
     "text": [
      "Warning message in wilcox.test.default(ganA[1:hasta], ganB[1:hasta]):\n",
      "“cannot compute exact p-value with ties”\n"
     ]
    },
    {
     "name": "stdout",
     "output_type": "stream",
     "text": [
      "23 \t 0.06990692 \n"
     ]
    },
    {
     "name": "stderr",
     "output_type": "stream",
     "text": [
      "Warning message in wilcox.test.default(ganA[1:hasta], ganB[1:hasta]):\n",
      "“cannot compute exact p-value with ties”\n"
     ]
    },
    {
     "name": "stdout",
     "output_type": "stream",
     "text": [
      "24 \t 0.08325615 \n"
     ]
    },
    {
     "name": "stderr",
     "output_type": "stream",
     "text": [
      "Warning message in wilcox.test.default(ganA[1:hasta], ganB[1:hasta]):\n",
      "“cannot compute exact p-value with ties”\n"
     ]
    },
    {
     "name": "stdout",
     "output_type": "stream",
     "text": [
      "25 \t 0.1051943 \n"
     ]
    },
    {
     "name": "stderr",
     "output_type": "stream",
     "text": [
      "Warning message in wilcox.test.default(ganA[1:hasta], ganB[1:hasta]):\n",
      "“cannot compute exact p-value with ties”\n"
     ]
    },
    {
     "name": "stdout",
     "output_type": "stream",
     "text": [
      "26 \t 0.09223087 \n"
     ]
    },
    {
     "name": "stderr",
     "output_type": "stream",
     "text": [
      "Warning message in wilcox.test.default(ganA[1:hasta], ganB[1:hasta]):\n",
      "“cannot compute exact p-value with ties”\n"
     ]
    },
    {
     "name": "stdout",
     "output_type": "stream",
     "text": [
      "27 \t 0.1174241 \n"
     ]
    },
    {
     "name": "stderr",
     "output_type": "stream",
     "text": [
      "Warning message in wilcox.test.default(ganA[1:hasta], ganB[1:hasta]):\n",
      "“cannot compute exact p-value with ties”\n"
     ]
    },
    {
     "name": "stdout",
     "output_type": "stream",
     "text": [
      "28 \t 0.09790443 \n"
     ]
    },
    {
     "name": "stderr",
     "output_type": "stream",
     "text": [
      "Warning message in wilcox.test.default(ganA[1:hasta], ganB[1:hasta]):\n",
      "“cannot compute exact p-value with ties”\n"
     ]
    },
    {
     "name": "stdout",
     "output_type": "stream",
     "text": [
      "29 \t 0.07246233 \n"
     ]
    },
    {
     "name": "stderr",
     "output_type": "stream",
     "text": [
      "Warning message in wilcox.test.default(ganA[1:hasta], ganB[1:hasta]):\n",
      "“cannot compute exact p-value with ties”\n"
     ]
    },
    {
     "name": "stdout",
     "output_type": "stream",
     "text": [
      "30 \t 0.1007779 \n"
     ]
    },
    {
     "name": "stderr",
     "output_type": "stream",
     "text": [
      "Warning message in wilcox.test.default(ganA[1:hasta], ganB[1:hasta]):\n",
      "“cannot compute exact p-value with ties”\n"
     ]
    },
    {
     "name": "stdout",
     "output_type": "stream",
     "text": [
      "31 \t 0.07963557 \n"
     ]
    },
    {
     "name": "stderr",
     "output_type": "stream",
     "text": [
      "Warning message in wilcox.test.default(ganA[1:hasta], ganB[1:hasta]):\n",
      "“cannot compute exact p-value with ties”\n"
     ]
    },
    {
     "name": "stdout",
     "output_type": "stream",
     "text": [
      "32 \t 0.05317066 \n"
     ]
    },
    {
     "name": "stderr",
     "output_type": "stream",
     "text": [
      "Warning message in wilcox.test.default(ganA[1:hasta], ganB[1:hasta]):\n",
      "“cannot compute exact p-value with ties”\n"
     ]
    },
    {
     "name": "stdout",
     "output_type": "stream",
     "text": [
      "33 \t 0.03600933 \n"
     ]
    },
    {
     "name": "stderr",
     "output_type": "stream",
     "text": [
      "Warning message in wilcox.test.default(ganA[1:hasta], ganB[1:hasta]):\n",
      "“cannot compute exact p-value with ties”\n"
     ]
    },
    {
     "name": "stdout",
     "output_type": "stream",
     "text": [
      "34 \t 0.03933809 \n"
     ]
    },
    {
     "name": "stderr",
     "output_type": "stream",
     "text": [
      "Warning message in wilcox.test.default(ganA[1:hasta], ganB[1:hasta]):\n",
      "“cannot compute exact p-value with ties”\n"
     ]
    },
    {
     "name": "stdout",
     "output_type": "stream",
     "text": [
      "35 \t 0.04155345 \n"
     ]
    },
    {
     "name": "stderr",
     "output_type": "stream",
     "text": [
      "Warning message in wilcox.test.default(ganA[1:hasta], ganB[1:hasta]):\n",
      "“cannot compute exact p-value with ties”\n"
     ]
    },
    {
     "name": "stdout",
     "output_type": "stream",
     "text": [
      "36 \t 0.04150087 \n"
     ]
    },
    {
     "name": "stderr",
     "output_type": "stream",
     "text": [
      "Warning message in wilcox.test.default(ganA[1:hasta], ganB[1:hasta]):\n",
      "“cannot compute exact p-value with ties”\n"
     ]
    },
    {
     "name": "stdout",
     "output_type": "stream",
     "text": [
      "37 \t 0.03019038 \n"
     ]
    },
    {
     "name": "stderr",
     "output_type": "stream",
     "text": [
      "Warning message in wilcox.test.default(ganA[1:hasta], ganB[1:hasta]):\n",
      "“cannot compute exact p-value with ties”\n"
     ]
    },
    {
     "name": "stdout",
     "output_type": "stream",
     "text": [
      "38 \t 0.03070564 \n"
     ]
    },
    {
     "name": "stderr",
     "output_type": "stream",
     "text": [
      "Warning message in wilcox.test.default(ganA[1:hasta], ganB[1:hasta]):\n",
      "“cannot compute exact p-value with ties”\n"
     ]
    },
    {
     "name": "stdout",
     "output_type": "stream",
     "text": [
      "39 \t 0.04404323 \n"
     ]
    },
    {
     "name": "stderr",
     "output_type": "stream",
     "text": [
      "Warning message in wilcox.test.default(ganA[1:hasta], ganB[1:hasta]):\n",
      "“cannot compute exact p-value with ties”\n"
     ]
    },
    {
     "name": "stdout",
     "output_type": "stream",
     "text": [
      "40 \t 0.04638531 \n"
     ]
    },
    {
     "name": "stderr",
     "output_type": "stream",
     "text": [
      "Warning message in wilcox.test.default(ganA[1:hasta], ganB[1:hasta]):\n",
      "“cannot compute exact p-value with ties”\n"
     ]
    },
    {
     "name": "stdout",
     "output_type": "stream",
     "text": [
      "41 \t 0.04368415 \n"
     ]
    },
    {
     "name": "stderr",
     "output_type": "stream",
     "text": [
      "Warning message in wilcox.test.default(ganA[1:hasta], ganB[1:hasta]):\n",
      "“cannot compute exact p-value with ties”\n"
     ]
    },
    {
     "name": "stdout",
     "output_type": "stream",
     "text": [
      "42 \t 0.04905153 \n"
     ]
    },
    {
     "name": "stderr",
     "output_type": "stream",
     "text": [
      "Warning message in wilcox.test.default(ganA[1:hasta], ganB[1:hasta]):\n",
      "“cannot compute exact p-value with ties”\n"
     ]
    },
    {
     "name": "stdout",
     "output_type": "stream",
     "text": [
      "43 \t 0.04942291 \n"
     ]
    },
    {
     "name": "stderr",
     "output_type": "stream",
     "text": [
      "Warning message in wilcox.test.default(ganA[1:hasta], ganB[1:hasta]):\n",
      "“cannot compute exact p-value with ties”\n"
     ]
    },
    {
     "name": "stdout",
     "output_type": "stream",
     "text": [
      "44 \t 0.04889525 \n"
     ]
    },
    {
     "name": "stderr",
     "output_type": "stream",
     "text": [
      "Warning message in wilcox.test.default(ganA[1:hasta], ganB[1:hasta]):\n",
      "“cannot compute exact p-value with ties”\n"
     ]
    },
    {
     "name": "stdout",
     "output_type": "stream",
     "text": [
      "45 \t 0.03846296 \n"
     ]
    },
    {
     "name": "stderr",
     "output_type": "stream",
     "text": [
      "Warning message in wilcox.test.default(ganA[1:hasta], ganB[1:hasta]):\n",
      "“cannot compute exact p-value with ties”\n"
     ]
    },
    {
     "name": "stdout",
     "output_type": "stream",
     "text": [
      "46 \t 0.04393497 \n"
     ]
    },
    {
     "name": "stderr",
     "output_type": "stream",
     "text": [
      "Warning message in wilcox.test.default(ganA[1:hasta], ganB[1:hasta]):\n",
      "“cannot compute exact p-value with ties”\n"
     ]
    },
    {
     "name": "stdout",
     "output_type": "stream",
     "text": [
      "47 \t 0.05151119 \n"
     ]
    },
    {
     "name": "stderr",
     "output_type": "stream",
     "text": [
      "Warning message in wilcox.test.default(ganA[1:hasta], ganB[1:hasta]):\n",
      "“cannot compute exact p-value with ties”\n"
     ]
    },
    {
     "name": "stdout",
     "output_type": "stream",
     "text": [
      "48 \t 0.03742897 \n"
     ]
    },
    {
     "name": "stderr",
     "output_type": "stream",
     "text": [
      "Warning message in wilcox.test.default(ganA[1:hasta], ganB[1:hasta]):\n",
      "“cannot compute exact p-value with ties”\n"
     ]
    },
    {
     "name": "stdout",
     "output_type": "stream",
     "text": [
      "49 \t 0.06019888 \n",
      "50 \t 0.0486509 \n",
      "51 \t 0.05106541 \n",
      "52 \t 0.04885387 \n",
      "53 \t 0.04760303 \n",
      "54 \t 0.06007963 \n",
      "55 \t 0.05166788 \n",
      "56 \t 0.03617838 \n",
      "57 \t 0.03832538 \n",
      "58 \t 0.02643834 \n",
      "59 \t 0.03580886 \n",
      "60 \t 0.02226654 \n",
      "61 \t 0.02626417 \n",
      "62 \t 0.02194525 \n",
      "63 \t 0.02708536 \n",
      "64 \t 0.03335029 \n",
      "65 \t 0.03220072 \n",
      "66 \t 0.02384277 \n",
      "67 \t 0.02192295 \n",
      "68 \t 0.01909168 \n",
      "69 \t 0.01243261 \n",
      "70 \t 0.01000741 \n"
     ]
    }
   ],
   "source": [
    "for(  hasta  in  5:70 )\n",
    "{\n",
    "  w  <- wilcox.test( ganA[1:hasta], ganB[1:hasta] )\n",
    "  cat(  hasta, \"\\t\",  w$p.value, \"\\n\" )\n",
    "}"
   ]
  },
  {
   "cell_type": "markdown",
   "id": "505e5e99-0cbd-4160-b70f-d8492471efd4",
   "metadata": {},
   "source": [
    "Conclusión: HACEN FALTA alrededor de 60 corridas del modelo con training/testing, se puede estar seguro"
   ]
  },
  {
   "cell_type": "markdown",
   "id": "6c659092-7d13-415c-ada1-1f4392ab6cde",
   "metadata": {},
   "source": [
    "<H3> Grafico las densidades <\\H3>"
   ]
  },
  {
   "cell_type": "markdown",
   "id": "ae89142d-4b6a-4872-8be8-df0acbbbbef5",
   "metadata": {},
   "source": [
    "primero creo un dataset con los resultados"
   ]
  },
  {
   "cell_type": "markdown",
   "id": "1069cc2f-2e4f-4d45-be75-e7d78a5bbfa8",
   "metadata": {},
   "source": [
    "cada vector a un pequeño dataset"
   ]
  },
  {
   "cell_type": "code",
   "execution_count": 24,
   "id": "f4eac086-5d51-4301-83c8-39e80b694404",
   "metadata": {},
   "outputs": [],
   "source": [
    "tblA  <-  as.data.table( list( \"modelo\"= \"A\", \"gan\"= ganA) )\n",
    "tblB  <-  as.data.table( list( \"modelo\"= \"B\", \"gan\"= ganB) )\n",
    "tblC  <-  as.data.table( list( \"modelo\"= \"C\", \"gan\"= ganC) )"
   ]
  },
  {
   "cell_type": "markdown",
   "id": "860134fd-fe4c-4edb-b589-127618d62391",
   "metadata": {},
   "source": [
    "concateno los datasets"
   ]
  },
  {
   "cell_type": "code",
   "execution_count": 25,
   "id": "9abf3bf3-1577-4624-8b46-6b0b2cd702f2",
   "metadata": {},
   "outputs": [],
   "source": [
    "tbl  <- rbind( tblA, tblB, tblC )"
   ]
  },
  {
   "cell_type": "markdown",
   "id": "8b3fcfa1-ce4e-42c5-b4d9-43495002108c",
   "metadata": {},
   "source": [
    "grafico las densidades"
   ]
  },
  {
   "cell_type": "code",
   "execution_count": 26,
   "id": "8473b9d9-36d4-45a6-91a6-d19226eb31cf",
   "metadata": {},
   "outputs": [
    {
     "data": {
      "image/png": "[encoded data removed]",
      "text/plain": [
       "plot without title"
      ]
     },
     "metadata": {
      "image/png": {
       "height": 420,
       "width": 420
      }
     },
     "output_type": "display_data"
    }
   ],
   "source": [
    "ggplot( tbl, aes(x=gan, fill=modelo)) + geom_density(alpha=0.25) "
   ]
  },
  {
   "cell_type": "markdown",
   "id": "e48a2344-fc03-42e1-a19a-bf279e12d1a2",
   "metadata": {},
   "source": [
    "Conclusión: Se observa que B es inferior, y que A y C son casi identicos"
   ]
  }
 ],
 "metadata": {
  "kernelspec": {
   "display_name": "R",
   "language": "R",
   "name": "ir"
  },
  "language_info": {
   "codemirror_mode": "r",
   "file_extension": ".r",
   "mimetype": "text/x-r-source",
   "name": "R",
   "pygments_lexer": "r",
   "version": "4.1.2"
  }
 },
 "nbformat": 4,
 "nbformat_minor": 5
}
