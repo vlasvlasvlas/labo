{
 "cells": [
  {
   "cell_type": "markdown",
   "metadata": {},
   "source": [
    "# Zero to Hero"
   ]
  },
  {
   "cell_type": "markdown",
   "metadata": {},
   "source": [
    "## 1.11 Arbol training/testing"
   ]
  },
  {
   "cell_type": "markdown",
   "metadata": {},
   "source": [
    "El objetivo es calcular la ganancia en testing de un arbol de decision"
   ]
  },
  {
   "cell_type": "code",
   "execution_count": null,
   "metadata": {},
   "outputs": [],
   "source": [
    "rm( list=ls())\n",
    "gc()\n",
    "\n",
    "library( \"data.table\")   #cargo la libreria  data.table\n",
    "library( \"rpart\")  #cargo la libreria  rpart\n",
    "library( \"rpart.plot\")\n",
    "library(\"caret\")\n",
    "\n",
    "options(repr.plot.width=20, repr.plot.height=10) \n",
    "setwd(\"d:\\\\gdrive\\\\Austral2022R\\\\\")  #Aqui se debe poner la ruta de la PC local"
   ]
  },
  {
   "cell_type": "code",
   "execution_count": null,
   "metadata": {},
   "outputs": [],
   "source": [
    "dataset <- data.table::fread(\"./datasets/paquete_premium_202011.csv\")   #cargo el dataset"
   ]
  },
  {
   "cell_type": "code",
   "execution_count": null,
   "metadata": {},
   "outputs": [],
   "source": [
    "#creo training con 70%  y testing con 30%\n",
    "set.seed(13)\n",
    "train_rows <- createDataPartition(dataset$clase_ternaria, p= 0.70,list= FALSE)\n",
    "dtrain  <- dataset[ train_rows]\n",
    "dtest  <-  dataset[ -train_rows]"
   ]
  },
  {
   "cell_type": "markdown",
   "metadata": {},
   "source": [
    "Entreno el modelo en los datos de training"
   ]
  },
  {
   "cell_type": "code",
   "execution_count": null,
   "metadata": {},
   "outputs": [],
   "source": [
    "param  <- list(\"cp\"= -0.5,\n",
    "               \"minsplit\"=  900,\n",
    "               \"minbucket\"= 440,\n",
    "               \"maxdepth\"= 5\n",
    "              )"
   ]
  },
  {
   "cell_type": "markdown",
   "metadata": {},
   "source": [
    "Entreno el modelo en los datos de training"
   ]
  },
  {
   "cell_type": "code",
   "execution_count": null,
   "metadata": {},
   "outputs": [],
   "source": [
    "#genero el modelo\n",
    "modelo <-  rpart::rpart(formula= \"clase_ternaria ~ .\" ,\n",
    "                        data= dtrain,\n",
    "                        xval= 0,\n",
    "                        control= param)"
   ]
  },
  {
   "cell_type": "markdown",
   "metadata": {},
   "source": [
    "aplico el modelo a los datos de testing"
   ]
  },
  {
   "cell_type": "code",
   "execution_count": null,
   "metadata": {},
   "outputs": [],
   "source": [
    "prediccion  <- predict( modelo, dtest, type = \"prob\")"
   ]
  },
  {
   "cell_type": "markdown",
   "metadata": {},
   "source": [
    "### Calculo la ganancia del modelo en los datos de testing"
   ]
  },
  {
   "cell_type": "markdown",
   "metadata": {},
   "source": [
    "a partir de la prediccion, calculo la probabilidad de BAJA+2 de cada registro de testing  **dtest**"
   ]
  },
  {
   "cell_type": "code",
   "execution_count": null,
   "metadata": {},
   "outputs": [],
   "source": [
    "prob_baja2  <- prediccion[, \"BAJA+2\"]"
   ]
  },
  {
   "cell_type": "markdown",
   "metadata": {},
   "source": [
    "Para el cálculo de la ganancia del modelo aplicado a testing debo tener en cuenta lo siguiente\n",
    "* Solo envio estimulo a los registros que el modelo asigno una probabilidad mayor a 1/60\n",
    "* Si no envio estimulo, no gano ni pierdo, es decir la ganacia es cero\n",
    "* Si el registro al que envio el estímulo es un **BAJA+2**  entonces la ganancia es de +59000\n",
    "* Si el registro al que envio el estímulo es un **BAJA+1**  entonces la ganancia es de  -1000\n",
    "* Si el registro al que envio el estímulo es un **CONTINUA** entonces la ganancia es de  -1000"
   ]
  },
  {
   "cell_type": "markdown",
   "metadata": {},
   "source": [
    "A la condición que solo envio a los registros con probabilidad mayor a 1/60 la resuelvo con la condicion lógica  (prob_baja2> 1/60)\n",
    "<br>\n",
    "Esta condicion termina siendo un 0 o un 1\n",
    "<br>\n",
    "vale 1 si y solo si se cumple la condicion, es decir  si prob_baja2 es mayor a 1/60"
   ]
  },
  {
   "cell_type": "markdown",
   "metadata": {},
   "source": [
    "La ganancia de +59000 o -1000 la resuelvo de esta forma ifelse( clase_ternaria==\"BAJA+2\", 59000, -1000)"
   ]
  },
  {
   "cell_type": "markdown",
   "metadata": {},
   "source": [
    "Finalmente,  que se cumplan ambas condiciones al mismo tiempo, en este caso, es multiplicarlas, o sea\n",
    "<br>\n",
    "(prob_baja2>1/60) * ifelse( clase_ternaria==\"BAJA+2\", 59000, -1000)\n",
    "<br>\n",
    "La condicion anterior toma los siguientes valores"
   ]
  },
  {
   "cell_type": "markdown",
   "metadata": {},
   "source": [
    "| prob(BAJA+2) | clase_ternaria | ganancia |\n",
    "| --- | :---: | ---: |\n",
    "| menor o igual a 1/60 | BAJA+1 | 0 |\n",
    "| menor o igual a 1/60 | CONTINUA | 0 |\n",
    "| menor o igual a 1/60 | BAJA+2 | 0 |\n",
    "| mayor a 1/60 | BAJA+1 | -1000 |\n",
    "| mayor a 1/60 | CONTINUA | -1000 |\n",
    "| mayor a 1/60 | BAJA+2 | 59000 |\n"
   ]
  },
  {
   "cell_type": "markdown",
   "metadata": {},
   "source": [
    "Finalmente hago el calculo en data.table"
   ]
  },
  {
   "cell_type": "code",
   "execution_count": null,
   "metadata": {},
   "outputs": [],
   "source": [
    "ganancia_testing <- dtest[ , sum(  (prob_baja2>1/60) * ifelse( clase_ternaria==\"BAJA+2\", 59000, -1000) )]"
   ]
  },
  {
   "cell_type": "code",
   "execution_count": null,
   "metadata": {},
   "outputs": [],
   "source": [
    "ganancia_testing"
   ]
  },
  {
   "cell_type": "markdown",
   "metadata": {},
   "source": [
    "Es importante que la ganancia esta calculada sobre los datos de testing, que en este caso son apenas el 30%\n",
    "<br>\n",
    "Si quiero extrapolar a todo el dataset, debo hacer el **cociente** de esa ganancia por 0.30   ( coloquialmente, debo dividir por 0.30 )"
   ]
  },
  {
   "cell_type": "code",
   "execution_count": null,
   "metadata": {},
   "outputs": [],
   "source": [
    "ganancia_testing_normalizada  <-  ganancia_testing/0.3"
   ]
  },
  {
   "cell_type": "code",
   "execution_count": null,
   "metadata": {},
   "outputs": [],
   "source": [
    "ganancia_testing_normalizada"
   ]
  }
 ],
 "metadata": {
  "kernelspec": {
   "display_name": "R",
   "language": "R",
   "name": "ir"
  },
  "language_info": {
   "codemirror_mode": "r",
   "file_extension": ".r",
   "mimetype": "text/x-r-source",
   "name": "R",
   "pygments_lexer": "r",
   "version": "4.1.2"
  }
 },
 "nbformat": 4,
 "nbformat_minor": 4
}
